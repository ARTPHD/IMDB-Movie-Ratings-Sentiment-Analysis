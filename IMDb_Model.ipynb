{
  "nbformat": 4,
  "nbformat_minor": 0,
  "metadata": {
    "colab": {
      "provenance": []
    },
    "kernelspec": {
      "name": "python3",
      "display_name": "Python 3"
    },
    "language_info": {
      "name": "python"
    }
  },
  "cells": [
    {
      "cell_type": "code",
      "execution_count": 1,
      "metadata": {
        "colab": {
          "base_uri": "https://localhost:8080/"
        },
        "id": "F6a1Zi6VTmX7",
        "outputId": "6791f45e-e7f5-4e7b-8083-2787bc285cc5"
      },
      "outputs": [
        {
          "output_type": "stream",
          "name": "stderr",
          "text": [
            "[nltk_data] Downloading package punkt to /root/nltk_data...\n",
            "[nltk_data]   Unzipping tokenizers/punkt.zip.\n",
            "[nltk_data] Downloading package stopwords to /root/nltk_data...\n",
            "[nltk_data]   Unzipping corpora/stopwords.zip.\n",
            "[nltk_data] Downloading package wordnet to /root/nltk_data...\n",
            "[nltk_data] Downloading package omw-1.4 to /root/nltk_data...\n"
          ]
        }
      ],
      "source": [
        "import pandas as pd\n",
        "import numpy as np\n",
        "import matplotlib.pyplot as plt\n",
        "import seaborn as sns\n",
        "import re\n",
        "import nltk\n",
        "nltk.download('punkt')\n",
        "nltk.download('stopwords')\n",
        "nltk.download('wordnet')\n",
        "nltk.download('omw-1.4')\n",
        "from nltk.corpus import stopwords\n",
        "from nltk.tokenize import word_tokenize\n",
        "from nltk.stem import WordNetLemmatizer\n",
        "from textblob import TextBlob\n",
        "from sklearn.model_selection import train_test_split\n",
        "from sklearn.feature_extraction.text import TfidfVectorizer\n",
        "from imblearn.combine import SMOTETomek \n",
        "from imblearn.pipeline import Pipeline\n",
        "from sklearn.naive_bayes import MultinomialNB\n",
        "from sklearn.tree import DecisionTreeClassifier\n",
        "from sklearn.svm import SVC\n",
        "from sklearn.ensemble import GradientBoostingClassifier\n",
        "from sklearn.ensemble import RandomForestClassifier\n",
        "from sklearn.metrics import classification_report \n",
        "from sklearn.model_selection import GridSearchCV\n",
        "from sklearn.model_selection import RepeatedStratifiedKFold\n",
        "from sklearn.metrics import confusion_matrix, roc_auc_score\n",
        "from sklearn.metrics import accuracy_score, f1_score, recall_score, roc_auc_score, precision_score\n",
        "import pickle\n",
        "from pickle import dump\n",
        "from pickle import load "
      ]
    },
    {
      "cell_type": "code",
      "source": [
        "def normalization(text):\n",
        "    # transform text into lowercase\n",
        "    text = text.lower()\n",
        "    \n",
        "    # remove the punctuation and special characters \n",
        "    text = re.sub(r'[^\\w\\s]', ' ', text)\n",
        "    \n",
        "    # remove digits\n",
        "    text = re.sub(r'[\\d+]', '', text)\n",
        "    \n",
        "    # remove greeks\n",
        "    text = (re.sub('(?![ -~]).', '', text))\n",
        "    \n",
        "    return text\n",
        "    \n",
        "def tokenization(text):\n",
        "    # split the text into a series of tokens\n",
        "    text = word_tokenize(text)\n",
        "    \n",
        "    return text"
      ],
      "metadata": {
        "id": "WEVbU7ulUVYP"
      },
      "execution_count": 2,
      "outputs": []
    },
    {
      "cell_type": "code",
      "source": [
        "def removedStopwords(text):\n",
        "    \n",
        "    # initialize an empty list of tokens with no stopwords\n",
        "    tokens_with_no_stopwords = list()\n",
        "    \n",
        "    # extract tokens not found in a list of stopwords \n",
        "    for word in text:\n",
        "        if word not in stopwords.words('english'):\n",
        "            tokens_with_no_stopwords.append(word)\n",
        "    \n",
        "    return tokens_with_no_stopwords\n",
        "    \n",
        "def removed_words_less_than_4_characters(text):\n",
        "    # initialize an empty list for tokens with more than 4 characters\n",
        "    tokens_with_more_than_4_characters = list()\n",
        "    \n",
        "    # extract tokens with more than 4 characters\n",
        "    for word in text:\n",
        "        if len(word) >= 4:\n",
        "            tokens_with_more_than_4_characters.append(word)\n",
        "            \n",
        "    return tokens_with_more_than_4_characters"
      ],
      "metadata": {
        "id": "nnvia3NbUWFW"
      },
      "execution_count": 3,
      "outputs": []
    },
    {
      "cell_type": "code",
      "source": [
        "def wordsLemmatization(text):\n",
        "    # define object for lemmatizer \n",
        "    lemmatizer = WordNetLemmatizer()\n",
        "    \n",
        "    # initialize an empty list for lemmatized words\n",
        "    wordsLemmatize = list()\n",
        "    \n",
        "    # lemmatize the words\n",
        "    for word in text:\n",
        "        wordsLemmatize.append(lemmatizer.lemmatize(word))\n",
        "    \n",
        "    return wordsLemmatize"
      ],
      "metadata": {
        "id": "LBuxIA9tUaKf"
      },
      "execution_count": 4,
      "outputs": []
    },
    {
      "cell_type": "code",
      "source": [
        "def sentence_reconstruction(text):\n",
        "    # initialize an emppty string \n",
        "    sentence_reconstruction = \"\"\n",
        "    \n",
        "    # combine each token to form a string \n",
        "    for word in text:\n",
        "        sentence_reconstruction = sentence_reconstruction + word + \" \"\n",
        "    return sentence_reconstruction "
      ],
      "metadata": {
        "id": "Sdvkb8Y7Ubov"
      },
      "execution_count": 5,
      "outputs": []
    },
    {
      "cell_type": "code",
      "source": [
        "def text_subjectivity(text):\n",
        "    text_ = TextBlob(text)\n",
        "    return text_.sentiment.subjectivity"
      ],
      "metadata": {
        "id": "Psgsa8vBUdZJ"
      },
      "execution_count": 6,
      "outputs": []
    },
    {
      "cell_type": "code",
      "source": [
        "def text_polarity(text):\n",
        "    text_ = TextBlob(text)\n",
        "    return text_.sentiment.polarity"
      ],
      "metadata": {
        "id": "eI7uIsKVUeye"
      },
      "execution_count": 7,
      "outputs": []
    },
    {
      "cell_type": "code",
      "source": [
        "def sentiment_analysis_outcome(polarity):\n",
        "    if polarity > 0:\n",
        "        return \"Positive\"\n",
        "    else:\n",
        "        return \"Negative\""
      ],
      "metadata": {
        "id": "TcIpWqqUUgBW"
      },
      "execution_count": 8,
      "outputs": []
    },
    {
      "cell_type": "code",
      "source": [
        "df = pd.read_csv('movie.csv')\n",
        "df.head(10)"
      ],
      "metadata": {
        "colab": {
          "base_uri": "https://localhost:8080/",
          "height": 363
        },
        "id": "AyI-GlqXWv9Y",
        "outputId": "30112284-db03-4a7a-8808-e68f7b4a3056"
      },
      "execution_count": 9,
      "outputs": [
        {
          "output_type": "execute_result",
          "data": {
            "text/plain": [
              "                                                text  label\n",
              "0  I grew up (b. 1965) watching and loving the Th...      0\n",
              "1  When I put this movie in my DVD player, and sa...      0\n",
              "2  Why do people who do not know what a particula...      0\n",
              "3  Even though I have great interest in Biblical ...      0\n",
              "4  Im a die hard Dads Army fan and nothing will e...      1\n",
              "5  A terrible movie as everyone has said. What ma...      0\n",
              "6  Finally watched this shocking movie last night...      1\n",
              "7  I caught this film on AZN on cable. It sounded...      0\n",
              "8  It may be the remake of 1987 Autumn's Tale aft...      1\n",
              "9  My Super Ex Girlfriend turned out to be a plea...      1"
            ],
            "text/html": [
              "\n",
              "  <div id=\"df-3ffea080-770e-48c1-bf12-dd832b001726\">\n",
              "    <div class=\"colab-df-container\">\n",
              "      <div>\n",
              "<style scoped>\n",
              "    .dataframe tbody tr th:only-of-type {\n",
              "        vertical-align: middle;\n",
              "    }\n",
              "\n",
              "    .dataframe tbody tr th {\n",
              "        vertical-align: top;\n",
              "    }\n",
              "\n",
              "    .dataframe thead th {\n",
              "        text-align: right;\n",
              "    }\n",
              "</style>\n",
              "<table border=\"1\" class=\"dataframe\">\n",
              "  <thead>\n",
              "    <tr style=\"text-align: right;\">\n",
              "      <th></th>\n",
              "      <th>text</th>\n",
              "      <th>label</th>\n",
              "    </tr>\n",
              "  </thead>\n",
              "  <tbody>\n",
              "    <tr>\n",
              "      <th>0</th>\n",
              "      <td>I grew up (b. 1965) watching and loving the Th...</td>\n",
              "      <td>0</td>\n",
              "    </tr>\n",
              "    <tr>\n",
              "      <th>1</th>\n",
              "      <td>When I put this movie in my DVD player, and sa...</td>\n",
              "      <td>0</td>\n",
              "    </tr>\n",
              "    <tr>\n",
              "      <th>2</th>\n",
              "      <td>Why do people who do not know what a particula...</td>\n",
              "      <td>0</td>\n",
              "    </tr>\n",
              "    <tr>\n",
              "      <th>3</th>\n",
              "      <td>Even though I have great interest in Biblical ...</td>\n",
              "      <td>0</td>\n",
              "    </tr>\n",
              "    <tr>\n",
              "      <th>4</th>\n",
              "      <td>Im a die hard Dads Army fan and nothing will e...</td>\n",
              "      <td>1</td>\n",
              "    </tr>\n",
              "    <tr>\n",
              "      <th>5</th>\n",
              "      <td>A terrible movie as everyone has said. What ma...</td>\n",
              "      <td>0</td>\n",
              "    </tr>\n",
              "    <tr>\n",
              "      <th>6</th>\n",
              "      <td>Finally watched this shocking movie last night...</td>\n",
              "      <td>1</td>\n",
              "    </tr>\n",
              "    <tr>\n",
              "      <th>7</th>\n",
              "      <td>I caught this film on AZN on cable. It sounded...</td>\n",
              "      <td>0</td>\n",
              "    </tr>\n",
              "    <tr>\n",
              "      <th>8</th>\n",
              "      <td>It may be the remake of 1987 Autumn's Tale aft...</td>\n",
              "      <td>1</td>\n",
              "    </tr>\n",
              "    <tr>\n",
              "      <th>9</th>\n",
              "      <td>My Super Ex Girlfriend turned out to be a plea...</td>\n",
              "      <td>1</td>\n",
              "    </tr>\n",
              "  </tbody>\n",
              "</table>\n",
              "</div>\n",
              "      <button class=\"colab-df-convert\" onclick=\"convertToInteractive('df-3ffea080-770e-48c1-bf12-dd832b001726')\"\n",
              "              title=\"Convert this dataframe to an interactive table.\"\n",
              "              style=\"display:none;\">\n",
              "        \n",
              "  <svg xmlns=\"http://www.w3.org/2000/svg\" height=\"24px\"viewBox=\"0 0 24 24\"\n",
              "       width=\"24px\">\n",
              "    <path d=\"M0 0h24v24H0V0z\" fill=\"none\"/>\n",
              "    <path d=\"M18.56 5.44l.94 2.06.94-2.06 2.06-.94-2.06-.94-.94-2.06-.94 2.06-2.06.94zm-11 1L8.5 8.5l.94-2.06 2.06-.94-2.06-.94L8.5 2.5l-.94 2.06-2.06.94zm10 10l.94 2.06.94-2.06 2.06-.94-2.06-.94-.94-2.06-.94 2.06-2.06.94z\"/><path d=\"M17.41 7.96l-1.37-1.37c-.4-.4-.92-.59-1.43-.59-.52 0-1.04.2-1.43.59L10.3 9.45l-7.72 7.72c-.78.78-.78 2.05 0 2.83L4 21.41c.39.39.9.59 1.41.59.51 0 1.02-.2 1.41-.59l7.78-7.78 2.81-2.81c.8-.78.8-2.07 0-2.86zM5.41 20L4 18.59l7.72-7.72 1.47 1.35L5.41 20z\"/>\n",
              "  </svg>\n",
              "      </button>\n",
              "      \n",
              "  <style>\n",
              "    .colab-df-container {\n",
              "      display:flex;\n",
              "      flex-wrap:wrap;\n",
              "      gap: 12px;\n",
              "    }\n",
              "\n",
              "    .colab-df-convert {\n",
              "      background-color: #E8F0FE;\n",
              "      border: none;\n",
              "      border-radius: 50%;\n",
              "      cursor: pointer;\n",
              "      display: none;\n",
              "      fill: #1967D2;\n",
              "      height: 32px;\n",
              "      padding: 0 0 0 0;\n",
              "      width: 32px;\n",
              "    }\n",
              "\n",
              "    .colab-df-convert:hover {\n",
              "      background-color: #E2EBFA;\n",
              "      box-shadow: 0px 1px 2px rgba(60, 64, 67, 0.3), 0px 1px 3px 1px rgba(60, 64, 67, 0.15);\n",
              "      fill: #174EA6;\n",
              "    }\n",
              "\n",
              "    [theme=dark] .colab-df-convert {\n",
              "      background-color: #3B4455;\n",
              "      fill: #D2E3FC;\n",
              "    }\n",
              "\n",
              "    [theme=dark] .colab-df-convert:hover {\n",
              "      background-color: #434B5C;\n",
              "      box-shadow: 0px 1px 3px 1px rgba(0, 0, 0, 0.15);\n",
              "      filter: drop-shadow(0px 1px 2px rgba(0, 0, 0, 0.3));\n",
              "      fill: #FFFFFF;\n",
              "    }\n",
              "  </style>\n",
              "\n",
              "      <script>\n",
              "        const buttonEl =\n",
              "          document.querySelector('#df-3ffea080-770e-48c1-bf12-dd832b001726 button.colab-df-convert');\n",
              "        buttonEl.style.display =\n",
              "          google.colab.kernel.accessAllowed ? 'block' : 'none';\n",
              "\n",
              "        async function convertToInteractive(key) {\n",
              "          const element = document.querySelector('#df-3ffea080-770e-48c1-bf12-dd832b001726');\n",
              "          const dataTable =\n",
              "            await google.colab.kernel.invokeFunction('convertToInteractive',\n",
              "                                                     [key], {});\n",
              "          if (!dataTable) return;\n",
              "\n",
              "          const docLinkHtml = 'Like what you see? Visit the ' +\n",
              "            '<a target=\"_blank\" href=https://colab.research.google.com/notebooks/data_table.ipynb>data table notebook</a>'\n",
              "            + ' to learn more about interactive tables.';\n",
              "          element.innerHTML = '';\n",
              "          dataTable['output_type'] = 'display_data';\n",
              "          await google.colab.output.renderOutput(dataTable, element);\n",
              "          const docLink = document.createElement('div');\n",
              "          docLink.innerHTML = docLinkHtml;\n",
              "          element.appendChild(docLink);\n",
              "        }\n",
              "      </script>\n",
              "    </div>\n",
              "  </div>\n",
              "  "
            ]
          },
          "metadata": {},
          "execution_count": 9
        }
      ]
    },
    {
      "cell_type": "code",
      "source": [
        "# Checking the size of dataset\n",
        "df.shape"
      ],
      "metadata": {
        "colab": {
          "base_uri": "https://localhost:8080/"
        },
        "id": "Ez7r--qBXEV3",
        "outputId": "ecf814ec-b6c9-443e-9324-acd952124855"
      },
      "execution_count": 10,
      "outputs": [
        {
          "output_type": "execute_result",
          "data": {
            "text/plain": [
              "(40000, 2)"
            ]
          },
          "metadata": {},
          "execution_count": 10
        }
      ]
    },
    {
      "cell_type": "code",
      "source": [
        "#Summarizing the overall dataset\n",
        "df.info()"
      ],
      "metadata": {
        "colab": {
          "base_uri": "https://localhost:8080/"
        },
        "id": "zM2DDtKqXJ58",
        "outputId": "4871b726-02ed-42a5-9ba8-9141ce9b6a3c"
      },
      "execution_count": 11,
      "outputs": [
        {
          "output_type": "stream",
          "name": "stdout",
          "text": [
            "<class 'pandas.core.frame.DataFrame'>\n",
            "RangeIndex: 40000 entries, 0 to 39999\n",
            "Data columns (total 2 columns):\n",
            " #   Column  Non-Null Count  Dtype \n",
            "---  ------  --------------  ----- \n",
            " 0   text    40000 non-null  object\n",
            " 1   label   40000 non-null  int64 \n",
            "dtypes: int64(1), object(1)\n",
            "memory usage: 625.1+ KB\n"
          ]
        }
      ]
    },
    {
      "cell_type": "code",
      "source": [
        "#Checking the null values in dataset\n",
        "df.isnull().sum()"
      ],
      "metadata": {
        "colab": {
          "base_uri": "https://localhost:8080/"
        },
        "id": "HGbW6j6pXXTU",
        "outputId": "105bde41-d020-4252-af7b-753655c50934"
      },
      "execution_count": 12,
      "outputs": [
        {
          "output_type": "execute_result",
          "data": {
            "text/plain": [
              "text     0\n",
              "label    0\n",
              "dtype: int64"
            ]
          },
          "metadata": {},
          "execution_count": 12
        }
      ]
    },
    {
      "cell_type": "code",
      "source": [
        "sns.heatmap(df.isnull(), annot = False, cmap = 'coolwarm')"
      ],
      "metadata": {
        "colab": {
          "base_uri": "https://localhost:8080/",
          "height": 288
        },
        "id": "R-MgnvyzXdRk",
        "outputId": "2b05ae37-859b-463a-fec7-afce45cf37c6"
      },
      "execution_count": 13,
      "outputs": [
        {
          "output_type": "execute_result",
          "data": {
            "text/plain": [
              "<matplotlib.axes._subplots.AxesSubplot at 0x7f766694fca0>"
            ]
          },
          "metadata": {},
          "execution_count": 13
        },
        {
          "output_type": "display_data",
          "data": {
            "text/plain": [
              "<Figure size 432x288 with 2 Axes>"
            ],
            "image/png": "[encoded data removed]"
          },
          "metadata": {
            "needs_background": "light"
          }
        }
      ]
    },
    {
      "cell_type": "code",
      "source": [
        "df.dropna(axis = 0, how = 'any', inplace = True)"
      ],
      "metadata": {
        "id": "_B7H1SdWXluI"
      },
      "execution_count": 14,
      "outputs": []
    },
    {
      "cell_type": "code",
      "source": [
        "#Checking the null values in dataset\n",
        "df.isnull().sum()"
      ],
      "metadata": {
        "colab": {
          "base_uri": "https://localhost:8080/"
        },
        "id": "_mMJ7J6mXpmi",
        "outputId": "f63bd993-0fa1-4196-a419-d9bb92ec2951"
      },
      "execution_count": 15,
      "outputs": [
        {
          "output_type": "execute_result",
          "data": {
            "text/plain": [
              "text     0\n",
              "label    0\n",
              "dtype: int64"
            ]
          },
          "metadata": {},
          "execution_count": 15
        }
      ]
    },
    {
      "cell_type": "code",
      "source": [
        "df['text'] = df['text'].apply(normalization)"
      ],
      "metadata": {
        "id": "NOAIZSdIXvdg"
      },
      "execution_count": 16,
      "outputs": []
    },
    {
      "cell_type": "code",
      "source": [
        "df['text'] = df['text'].apply(tokenization)"
      ],
      "metadata": {
        "id": "wB1ZbfYXX60R"
      },
      "execution_count": 17,
      "outputs": []
    },
    {
      "cell_type": "code",
      "source": [
        "df['text'] = df['text'].apply(removedStopwords)"
      ],
      "metadata": {
        "id": "Vu7SJ5TrYRjE"
      },
      "execution_count": 18,
      "outputs": []
    },
    {
      "cell_type": "code",
      "source": [
        "df['text'] = df['text'].apply(removed_words_less_than_4_characters)"
      ],
      "metadata": {
        "id": "zlNUQkW9Ya7o"
      },
      "execution_count": 19,
      "outputs": []
    },
    {
      "cell_type": "code",
      "source": [
        "df['text'] = df['text'].apply(wordsLemmatization)"
      ],
      "metadata": {
        "id": "WhkZxFBTZvHC"
      },
      "execution_count": 20,
      "outputs": []
    },
    {
      "cell_type": "code",
      "source": [
        "df['text'] = df['text'].apply(sentence_reconstruction)"
      ],
      "metadata": {
        "id": "QQaYcnQ0Zwwq"
      },
      "execution_count": 21,
      "outputs": []
    },
    {
      "cell_type": "code",
      "source": [
        "df_sujectivity = df['text'].apply(text_subjectivity)\n",
        "# create a new column in dataframe for subjectivity\n",
        "df['subjectivity'] = df_sujectivity"
      ],
      "metadata": {
        "id": "Gp-O7ljLZ3uK"
      },
      "execution_count": 46,
      "outputs": []
    },
    {
      "cell_type": "code",
      "source": [
        "df_polarity = df['text'].apply(text_polarity)\n",
        "# create a new column in dataframe for polarity\n",
        "df['polarity'] = df_polarity"
      ],
      "metadata": {
        "id": "fWr9Nr7fZ531"
      },
      "execution_count": 47,
      "outputs": []
    },
    {
      "cell_type": "code",
      "source": [
        "df['sentiment_analysis'] = df_polarity.apply(sentiment_analysis_outcome)"
      ],
      "metadata": {
        "id": "ZRYmbprzk_AU"
      },
      "execution_count": 24,
      "outputs": []
    },
    {
      "cell_type": "code",
      "source": [
        "df['sentiment_analysis'].value_counts()"
      ],
      "metadata": {
        "colab": {
          "base_uri": "https://localhost:8080/"
        },
        "id": "mNZhHTmfZ-lO",
        "outputId": "a71bc71b-73dd-4ce3-8194-e78d269199f1"
      },
      "execution_count": 25,
      "outputs": [
        {
          "output_type": "execute_result",
          "data": {
            "text/plain": [
              "Positive    30376\n",
              "Negative     9624\n",
              "Name: sentiment_analysis, dtype: int64"
            ]
          },
          "metadata": {},
          "execution_count": 25
        }
      ]
    },
    {
      "cell_type": "code",
      "source": [
        "sns.set_style(\"darkgrid\")\n",
        "sns.scatterplot(x = df_polarity, y = df_sujectivity)\n",
        "plt.title(\"Sentiment Analysis of Polarity vs Subjectivity\", fontweight = 'bold', fontsize = 15)\n",
        "plt.xlabel(\"Polarity\", fontweight = 'bold', fontsize = 12)\n",
        "plt.ylabel(\"Subjectivity\", fontweight = 'bold', fontsize = 12)\n",
        "plt.show()"
      ],
      "metadata": {
        "colab": {
          "base_uri": "https://localhost:8080/",
          "height": 300
        },
        "id": "8GnpAdJklCFo",
        "outputId": "7b172fa2-1f0b-4fc4-93d3-611f9d9d19b1"
      },
      "execution_count": 26,
      "outputs": [
        {
          "output_type": "display_data",
          "data": {
            "text/plain": [
              "<Figure size 432x288 with 1 Axes>"
            ],
            "image/png": "[encoded data removed]"
          },
          "metadata": {}
        }
      ]
    },
    {
      "cell_type": "code",
      "source": [
        "sns.set_style(\"darkgrid\")\n",
        "df['sentiment_analysis'].value_counts().plot(kind = \"bar\", color = [\"crimson\", \"navy\"])\n",
        "plt.title(\"Distribution of Sentiment Analysis Outcome\", fontsize = 15, fontweight = 'bold')\n",
        "plt.xlabel(\"Sentiment Analysis Outcome\", fontsize = 12, fontweight = 'bold')\n",
        "plt.ylabel(\"Number of Observations\", fontsize = 12, fontweight = 'bold')\n",
        "plt.show()"
      ],
      "metadata": {
        "colab": {
          "base_uri": "https://localhost:8080/",
          "height": 335
        },
        "id": "BqkboQIOlLl1",
        "outputId": "9ee4ccc6-1a53-4afd-b759-d246a42585ad"
      },
      "execution_count": 27,
      "outputs": [
        {
          "output_type": "display_data",
          "data": {
            "text/plain": [
              "<Figure size 432x288 with 1 Axes>"
            ],
            "image/png": "[encoded data removed]"
          },
          "metadata": {}
        }
      ]
    },
    {
      "cell_type": "markdown",
      "source": [
        "### **Modelling**"
      ],
      "metadata": {
        "id": "9aeoSjcZlQt1"
      }
    },
    {
      "cell_type": "code",
      "source": [
        "#Melakukan spliting untuk X dan Y pada training dan testing\n",
        "#X merupakan  Column text dan Y merupakan Column sentiment_analysis\n",
        "X_train, X_test, y_train, y_test = train_test_split(df['text'],\n",
        "                                                    df['sentiment_analysis'],\n",
        "                                                    test_size = 0.25, \n",
        "                                                    random_state = 42)"
      ],
      "metadata": {
        "id": "iRVJPQt9lPet"
      },
      "execution_count": 32,
      "outputs": []
    },
    {
      "cell_type": "code",
      "source": [
        "#Menggunakan TfidfVectorizer untuk Mengonversi kumpulan dokumen mentah menjadi matriks fitur TF-IDF.\n",
        "#Menggunakan SMOTETomek untuk Gabungkan pengambilan sampel berlebih dan kurang menggunakan tautan SMOTE dan Tomek.\n",
        "#Model SVM menggunakan kerner linear random_state bernilai 42 yang banyak digunakan dalam banyak contoh resmi scikit \n",
        "steps = [('tfidfVectorizer', TfidfVectorizer(analyzer = 'word')), \n",
        "             ('smt', SMOTETomek(random_state = 42)),\n",
        "             ('svm', SVC(kernel = \"linear\", random_state = 42))]"
      ],
      "metadata": {
        "id": "BF_rBjcpleAb"
      },
      "execution_count": 35,
      "outputs": []
    },
    {
      "cell_type": "code",
      "source": [
        "#Membuat Pipeline untuk menampung transformator dan prediktor di dalam steps\n",
        "model_svm = Pipeline(steps = steps)"
      ],
      "metadata": {
        "id": "XxHbfMjZmihG"
      },
      "execution_count": 36,
      "outputs": []
    },
    {
      "cell_type": "code",
      "source": [
        "#Train model_svm\n",
        "model_svm.fit(X_train, y_train)"
      ],
      "metadata": {
        "colab": {
          "base_uri": "https://localhost:8080/"
        },
        "id": "0jx_0EJomqS_",
        "outputId": "007f169d-4b2a-4dee-d1d0-0a46532e2d8b"
      },
      "execution_count": 38,
      "outputs": [
        {
          "output_type": "execute_result",
          "data": {
            "text/plain": [
              "Pipeline(steps=[('tfidfVectorizer', TfidfVectorizer()),\n",
              "                ('smt', SMOTETomek(random_state=42)),\n",
              "                ('svm', SVC(kernel='linear', random_state=42))])"
            ]
          },
          "metadata": {},
          "execution_count": 38
        }
      ]
    },
    {
      "cell_type": "code",
      "source": [
        "# Memprediksi label set train dan test\n",
        "y_pred_train_svm = model_svm.predict(X_train)\n",
        "y_pred_test_svm = model_svm.predict(X_test)"
      ],
      "metadata": {
        "id": "-AFuQkR2mtYs"
      },
      "execution_count": 39,
      "outputs": []
    },
    {
      "cell_type": "code",
      "source": [
        "#Menampilkan report dari training set dan testing set\n",
        "print(\"Classification Report for Support Vector Machine (SVM) with Training Set: \")\n",
        "print(classification_report(y_train, y_pred_train_svm))\n",
        "print()\n",
        "print(\"Classification Report for Support Vector Machine (SVM) with Testing Set:\")\n",
        "print(classification_report(y_test, y_pred_test_svm))"
      ],
      "metadata": {
        "colab": {
          "base_uri": "https://localhost:8080/"
        },
        "id": "_WDmPBhKv3Gk",
        "outputId": "c950a149-2716-4eb6-e5ef-c1f143956d97"
      },
      "execution_count": 40,
      "outputs": [
        {
          "output_type": "stream",
          "name": "stdout",
          "text": [
            "Classification Report for Support Vector Machine (SVM) with Training Set: \n",
            "              precision    recall  f1-score   support\n",
            "\n",
            "    Negative       0.96      0.99      0.97      7224\n",
            "    Positive       1.00      0.99      0.99     22776\n",
            "\n",
            "    accuracy                           0.99     30000\n",
            "   macro avg       0.98      0.99      0.98     30000\n",
            "weighted avg       0.99      0.99      0.99     30000\n",
            "\n",
            "\n",
            "Classification Report for Support Vector Machine (SVM) with Testing Set:\n",
            "              precision    recall  f1-score   support\n",
            "\n",
            "    Negative       0.83      0.83      0.83      2400\n",
            "    Positive       0.95      0.94      0.95      7600\n",
            "\n",
            "    accuracy                           0.92     10000\n",
            "   macro avg       0.89      0.89      0.89     10000\n",
            "weighted avg       0.92      0.92      0.92     10000\n",
            "\n"
          ]
        }
      ]
    },
    {
      "cell_type": "code",
      "source": [
        "#Menampilkan Confusion_Matrix dari Training set\n",
        "conf_matrix = confusion_matrix(y_train, y_pred_train_svm, labels = ['Negative', 'Positive'])\n",
        "sns.heatmap(conf_matrix, annot = True, cmap = 'viridis')\n",
        "plt.title(\"Confusion Matrix for Support Vector Machine (SVM) (Training Set)\", fontweight = 'bold', fontsize = 12)\n",
        "plt.xlabel(\"Actual\", fontweight = 'bold', fontsize = 12)\n",
        "plt.ylabel(\"Predicted\", fontweight = 'bold', fontsize = 12)"
      ],
      "metadata": {
        "colab": {
          "base_uri": "https://localhost:8080/",
          "height": 316
        },
        "id": "j6r-Eji0DHjC",
        "outputId": "0532bd76-2810-48cd-c836-6d7618be7627"
      },
      "execution_count": 41,
      "outputs": [
        {
          "output_type": "execute_result",
          "data": {
            "text/plain": [
              "Text(33.0, 0.5, 'Predicted')"
            ]
          },
          "metadata": {},
          "execution_count": 41
        },
        {
          "output_type": "display_data",
          "data": {
            "text/plain": [
              "<Figure size 432x288 with 2 Axes>"
            ],
            "image/png": "[encoded data removed]"
          },
          "metadata": {}
        }
      ]
    },
    {
      "cell_type": "code",
      "source": [
        "#Menampilkan Confusion_Matrix dari Testing set\n",
        "conf_matrix = confusion_matrix(y_test, y_pred_test_svm, labels = ['Negative', 'Positive'])\n",
        "sns.heatmap(conf_matrix, annot = True, cmap = 'viridis')\n",
        "plt.title(\"Confusion Matrix for Support Vector Machine (SVM) (Testing Set)\", fontweight = 'bold', fontsize = 12)\n",
        "plt.xlabel(\"Actual\", fontweight = 'bold', fontsize = 12)\n",
        "plt.ylabel(\"Predicted\", fontweight = 'bold', fontsize = 12)"
      ],
      "metadata": {
        "colab": {
          "base_uri": "https://localhost:8080/",
          "height": 316
        },
        "id": "hOpaeTNlDR1b",
        "outputId": "3db83c27-88ea-4cd6-961b-640a38ad0c9f"
      },
      "execution_count": 42,
      "outputs": [
        {
          "output_type": "execute_result",
          "data": {
            "text/plain": [
              "Text(33.0, 0.5, 'Predicted')"
            ]
          },
          "metadata": {},
          "execution_count": 42
        },
        {
          "output_type": "display_data",
          "data": {
            "text/plain": [
              "<Figure size 432x288 with 2 Axes>"
            ],
            "image/png": "[encoded data removed]"
          },
          "metadata": {}
        }
      ]
    },
    {
      "cell_type": "code",
      "source": [
        "#Menampilkan Perfomance Matrics yang telah digambarkan pada Confusion Matrix Training set dan Testing set diatas\n",
        "print(\"Performance Metrics for Support Vector Machine (SVM) (Training Set):\")\n",
        "print(\"Accuracy Score: \", accuracy_score(y_train, y_pred_train_svm))\n",
        "print(\"Precision Score: \", precision_score(y_train, y_pred_train_svm, average = 'weighted'))\n",
        "print(\"F1 Score: \", f1_score(y_train, y_pred_train_svm, average = \"weighted\"))\n",
        "print(\"Recall Score: \", recall_score(y_train, y_pred_train_svm, average = \"weighted\"))\n",
        "print()\n",
        "print(\"Performance Metrics for Support Vector Machine (SVM) (Testing Set):\")\n",
        "print(\"Accuracy Score: \", accuracy_score(y_test, y_pred_test_svm))\n",
        "print(\"Precision Score: \", precision_score(y_test, y_pred_test_svm, average = 'weighted'))\n",
        "print(\"F1 Score: \", f1_score(y_test, y_pred_test_svm, average = \"weighted\"))\n",
        "print(\"Recall Score: \", recall_score(y_test, y_pred_test_svm, average = \"weighted\"))"
      ],
      "metadata": {
        "colab": {
          "base_uri": "https://localhost:8080/"
        },
        "id": "qJnGouGuDY-3",
        "outputId": "f2863b0d-c07b-497e-cef4-dd13d22e7aaf"
      },
      "execution_count": 43,
      "outputs": [
        {
          "output_type": "stream",
          "name": "stdout",
          "text": [
            "Performance Metrics for Support Vector Machine (SVM) (Training Set):\n",
            "Accuracy Score:  0.9863333333333333\n",
            "Precision Score:  0.9866840493536345\n",
            "F1 Score:  0.9864136831881136\n",
            "Recall Score:  0.9863333333333333\n",
            "\n",
            "Performance Metrics for Support Vector Machine (SVM) (Testing Set):\n",
            "Accuracy Score:  0.9173\n",
            "Precision Score:  0.917432027265117\n",
            "F1 Score:  0.9173645977403349\n",
            "Recall Score:  0.9173\n"
          ]
        }
      ]
    },
    {
      "cell_type": "code",
      "source": [
        "#Saving the model to file\n",
        "dump(model_svm, open('IMDb_svm.pkl', 'wb'))"
      ],
      "metadata": {
        "id": "4IRp7vV3Drw7"
      },
      "execution_count": 44,
      "outputs": []
    },
    {
      "cell_type": "code",
      "source": [
        "#Loading the file\n",
        "ml = load(open('IMDb_svm.pkl', 'rb'))"
      ],
      "metadata": {
        "id": "zTcMcYUND189"
      },
      "execution_count": 45,
      "outputs": []
    }
  ]
}